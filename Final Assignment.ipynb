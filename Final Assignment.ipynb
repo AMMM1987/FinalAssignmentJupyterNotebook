{
  "metadata": {
    "kernelspec": {
      "name": "python",
      "display_name": "Python (Pyodide)",
      "language": "python"
    },
    "language_info": {
      "codemirror_mode": {
        "name": "python",
        "version": 3
      },
      "file_extension": ".py",
      "mimetype": "text/x-python",
      "name": "python",
      "nbconvert_exporter": "python",
      "pygments_lexer": "ipython3",
      "version": "3.8"
    }
  },
  "nbformat_minor": 4,
  "nbformat": 4,
  "cells": [
    {
      "cell_type": "markdown",
      "source": "# Data Science Tools and Ecosystem\n    ",
      "metadata": {}
    },
    {
      "cell_type": "markdown",
      "source": "In this notebook, Data Science Tools and Ecosystem are summarized.",
      "metadata": {}
    },
    {
      "cell_type": "markdown",
      "source": "1. Python\n2. Java\n3. C++\n   ",
      "metadata": {}
    },
    {
      "cell_type": "markdown",
      "source": "**Some of the commonly used libraries used by Data Scientists include:**",
      "metadata": {}
    },
    {
      "cell_type": "markdown",
      "source": "- Jupter\n- RStudio\n- Google Colab\n- Anacoda",
      "metadata": {}
    },
    {
      "cell_type": "markdown",
      "source": "***Data Science Tools:***",
      "metadata": {}
    },
    {
      "cell_type": "markdown",
      "source": "|Tools | What is used for | Link | \n| ------ | ------ | ------ | \n| Jupyter Notebook |  is a browser-based application that allows you to create and share documents containing code |\"https://jupyter.org/try-jupyter/lab/\"</a>|\n|RSudio | R is a statistical programming language. |https://posit.co/|\n| Pytorch| yTorch is a machine learning library based on the Torch library, |https://pytorch.org/|\n",
      "metadata": {}
    },
    {
      "cell_type": "markdown",
      "source": "#### Below are a few examples of evaluating arithmetic expressions in Python ####",
      "metadata": {}
    },
    {
      "cell_type": "code",
      "source": "\ncode = compile(\"5 + 4\", \"<string>\", \"eval\")\neval(code)\n",
      "metadata": {
        "trusted": true
      },
      "outputs": [],
      "execution_count": null
    },
    {
      "cell_type": "markdown",
      "source": "#### This a simple arithmetic expression to mutiply then add integers ####",
      "metadata": {}
    },
    {
      "cell_type": "code",
      "source": "code = compile(\"5 + 4\", \"<string>\", \"eval\")\neval(code)\n# Result: 9",
      "metadata": {
        "trusted": true
      },
      "outputs": [],
      "execution_count": null
    },
    {
      "cell_type": "markdown",
      "source": "9",
      "metadata": {}
    },
    {
      "cell_type": "markdown",
      "source": "#### This will convert 200 minutes to hours by diving by 60 ####",
      "metadata": {}
    },
    {
      "cell_type": "code",
      "source": "minutes = total_minutes % 60\n200 // 60 = 3.3333 hours",
      "metadata": {
        "trusted": true
      },
      "outputs": [],
      "execution_count": null
    },
    {
      "cell_type": "markdown",
      "source": "Result is 3,3333 hours",
      "metadata": {}
    },
    {
      "cell_type": "markdown",
      "source": "#### Insert a markdown cell to list Objectives ####",
      "metadata": {}
    },
    {
      "cell_type": "markdown",
      "source": " ##### Objectives:",
      "metadata": {}
    },
    {
      "cell_type": "markdown",
      "source": "* Learn fundamentals of Data Science\n* Analyze and Manupilate Data\n* Get experience with Juypter Notebook\n* Learning how to use Pyhton in Data Sciene",
      "metadata": {}
    },
    {
      "cell_type": "code",
      "source": "List popular languages for Data Science:",
      "metadata": {
        "trusted": true
      },
      "outputs": [],
      "execution_count": null
    },
    {
      "cell_type": "markdown",
      "source": "-----",
      "metadata": {}
    },
    {
      "cell_type": "markdown",
      "source": "* Python\n* R\n* Julia\n* Java\n* C++",
      "metadata": {}
    },
    {
      "cell_type": "markdown",
      "source": " Create a markdown cell to indicate the Author's name",
      "metadata": {}
    },
    {
      "cell_type": "markdown",
      "source": "## Author ##",
      "metadata": {}
    },
    {
      "cell_type": "markdown",
      "source": "Ana Martins",
      "metadata": {}
    },
    {
      "cell_type": "code",
      "source": "",
      "metadata": {
        "trusted": true
      },
      "outputs": [],
      "execution_count": null
    },
    {
      "cell_type": "code",
      "source": "",
      "metadata": {
        "trusted": true
      },
      "outputs": [],
      "execution_count": null
    }
  ]
}